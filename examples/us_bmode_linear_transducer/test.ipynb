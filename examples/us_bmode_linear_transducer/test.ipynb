{
 "cells": [
  {
   "cell_type": "code",
   "execution_count": 1,
   "metadata": {},
   "outputs": [],
   "source": [
    "import logging\n",
    "import numpy as np\n",
    "import scipy.io\n",
    "import matplotlib.pyplot as plt\n",
    "\n",
    "\n",
    "# from examples.us_bmode_linear_transducer.example_utils import download_if_does_not_exist\n",
    "from kwave.data import Vector\n",
    "from kwave.kgrid import kWaveGrid\n",
    "from kwave.kmedium import kWaveMedium\n",
    "from kwave.kspaceFirstOrder3D import kspaceFirstOrder3D\n",
    "from kwave.ktransducer import NotATransducer, kWaveTransducerSimple\n",
    "from kwave.options.simulation_execution_options import SimulationExecutionOptions\n",
    "from kwave.options.simulation_options import SimulationOptions\n",
    "from kwave.utils.dotdictionary import dotdict\n",
    "from kwave.utils.signals import tone_burst, get_win\n",
    "from kwave.utils.filters import gaussian_filter\n",
    "from kwave.utils.conversion import db2neper\n",
    "from kwave.reconstruction.tools import log_compression\n",
    "from kwave.reconstruction.beamform import envelope_detection\n",
    "from kwave.utils.mapgen import make_ball\n",
    "from utils_ex.artifacts import get_phantom_data_circle, get_3d_circle, visualize_maps\n",
    "from utils_ex.sim_params import Params\n",
    "\n",
    "%load_ext autoreload\n",
    "%autoreload 2\n"
   ]
  },
  {
   "cell_type": "code",
   "execution_count": 2,
   "metadata": {},
   "outputs": [],
   "source": [
    "args = Params()\n",
    "grid_size_points = args.grid_size_points\n",
    "grid_spacing_meters = args.grid_spacing_meters\n",
    "c0 = args.c0\n",
    "rho0 = args.rho0\n",
    "tone_burst_freq = args.tone_burst_freq\n",
    "tone_burst_cycles = args.tone_burst_cycles\n",
    "SOME_TIME_CONSTANT = args.SOME_TIME_CONSTANT\n",
    "source_strength = args.source_strength\n",
    "kgrid = kWaveGrid(grid_size_points, grid_spacing_meters)\n",
    "t_end = (grid_size_points.x * grid_spacing_meters.x) * SOME_TIME_CONSTANT / c0  # [s]\n",
    "kgrid.makeTime(c0, t_end=t_end)\n",
    "\n",
    "input_signal = tone_burst(1 / kgrid.dt, tone_burst_freq, tone_burst_cycles)\n",
    "input_signal = (source_strength / (c0 * rho0)) * input_signal\n",
    "\n",
    "medium = kWaveMedium(\n",
    "    sound_speed=None,  # will be set later\n",
    "    alpha_coeff=args.alpha_coeff,\n",
    "    alpha_power=args.alpha_power,\n",
    "    BonA=args.BonA,\n",
    ")\n",
    "\n",
    "transducer = dotdict()\n",
    "transducer.number_elements = 32  # total number of transducer elements\n",
    "transducer.element_width = 2  # width of each element [grid points/voxels]\n",
    "transducer.element_length = 24  # length of each element [grid points/voxels]\n",
    "transducer.element_spacing = (\n",
    "    0  # spacing (kerf  width) between the elements [grid points/voxels]\n",
    ")\n",
    "transducer.radius = float(\"inf\")  # radius of curvature of the transducer [m]\n",
    "\n",
    "# calculate the width of the transducer in grid points\n",
    "transducer_width = (\n",
    "    transducer.number_elements * transducer.element_width\n",
    "    + (transducer.number_elements - 1) * transducer.element_spacing\n",
    ")\n",
    "\n",
    "# use this to position the transducer in the middle of the computational grid\n",
    "transducer.position = np.round(\n",
    "    [\n",
    "        1,\n",
    "        grid_size_points.y / 2 - transducer_width / 2,\n",
    "        grid_size_points.z / 2 - transducer.element_length / 2,\n",
    "    ]\n",
    ")\n",
    "transducer = kWaveTransducerSimple(kgrid, **transducer)\n",
    "\n",
    "\n",
    "not_transducer = dotdict()\n",
    "not_transducer.sound_speed = c0  # sound speed [m/s]\n",
    "not_transducer.focus_distance = 20e-3  # focus distance [m]\n",
    "not_transducer.elevation_focus_distance = (\n",
    "    19e-3  # focus distance in the elevation plane [m]\n",
    ")\n",
    "not_transducer.steering_angle = 0  # steering angle [degrees]\n",
    "not_transducer.transmit_apodization = \"Hanning\"\n",
    "not_transducer.receive_apodization = \"Rectangular\"\n",
    "not_transducer.active_elements = np.ones((transducer.number_elements, 1))\n",
    "not_transducer.input_signal = input_signal\n",
    "\n",
    "not_transducer = NotATransducer(transducer, kgrid, **not_transducer)\n"
   ]
  },
  {
   "cell_type": "code",
   "execution_count": 3,
   "metadata": {},
   "outputs": [
    {
     "name": "stdout",
     "output_type": "stream",
     "text": [
      "/c/Users/CMME3/Documents/GitHub/k-wave-python/examples/us_bmode_linear_transducer\n"
     ]
    }
   ],
   "source": [
    "!pwd"
   ]
  },
  {
   "cell_type": "code",
   "execution_count": 4,
   "metadata": {},
   "outputs": [],
   "source": [
    "logging.log(logging.INFO, \"Fetching phantom data...\")\n",
    "# download_if_does_not_exist(PHANTOM_DATA_GDRIVE_ID, PHANTOM_DATA_PATH)\n",
    "params_dict = args.__dict__\n",
    "phantom = get_phantom_data_circle(\n",
    "                                kgrid=kgrid,\n",
    "                                params = params_dict,\n",
    "                                debug = True\n",
    "                                )\n",
    "\n",
    "sound_speed_map = phantom[\"sound_speed_map\"]\n",
    "density_map = phantom[\"density_map\"]"
   ]
  },
  {
   "cell_type": "code",
   "execution_count": 5,
   "metadata": {},
   "outputs": [
    {
     "name": "stdout",
     "output_type": "stream",
     "text": [
      "Imported all modules\n",
      "Hello World\n",
      "Running Simulation\n"
     ]
    }
   ],
   "source": [
    "from utils_ex.sim_params import Params\n",
    "from utils_ex.helper import (\n",
    "    get_transducer,\n",
    "    make_grid,\n",
    "    get_input_signal,\n",
    "    solve_kspace_problem,\n",
    "    process_simulation_data\n",
    ")\n",
    "from utils_ex.artifacts import get_phantom_data_circle\n",
    "\n",
    "from kwave.kmedium import kWaveMedium  # type: ignore\n",
    "print(\"Imported all modules\")\n",
    "\n",
    "def run_simulation(args: Params):\n",
    "    print(\"Running Simulation\")\n",
    "    # define the grid\n",
    "    grid_size_points = args.grid_size_points\n",
    "    grid_spacing_meters = args.grid_spacing_meters\n",
    "    c0 = args.c0\n",
    "    rho0 = args.rho0\n",
    "    tone_burst_freq = args.tone_burst_freq\n",
    "    tone_burst_cycles = args.tone_burst_cycles\n",
    "    SOME_TIME_CONSTANT = args.SOME_TIME_CONSTANT\n",
    "    source_strength = args.source_strength\n",
    "    # create the computational grid\n",
    "    kgrid = make_grid(grid_size_points, grid_spacing_meters, c0, SOME_TIME_CONSTANT)\n",
    "    # create the time array and input signal\n",
    "    input_signal = get_input_signal(kgrid, tone_burst_freq, tone_burst_cycles, source_strength, c0, rho0)\n",
    "    # define the transducer properties\n",
    "    not_transducer,transducer = get_transducer(grid_size_points, input_signal, kgrid, c0)\n",
    "    # define the medium properties\n",
    "    medium = kWaveMedium(\n",
    "        sound_speed=None,  # will be set later\n",
    "        alpha_coeff=args.alpha_coeff,\n",
    "        alpha_power=args.alpha_power,\n",
    "        BonA=args.BonA,\n",
    "    )\n",
    "    # get the phantom\n",
    "    phantom = get_phantom_data_circle(\n",
    "                                    kgrid=kgrid,\n",
    "                                    params = args.__dict__,\n",
    "                                    debug = True\n",
    "                                    )\n",
    "    # get the phantom data and set the medium properties\n",
    "    medium.sound_speed = phantom[\"sound_speed_map\"]\n",
    "    medium.density_map = phantom[\"density_map\"]\n",
    "    # break\n",
    "    # run the simulation to get scan lines\n",
    "    # scan_lines = solve_kspace_problem(\n",
    "    #     kgrid=kgrid,\n",
    "    #     medium=medium,\n",
    "    #     args=args,\n",
    "    #     sound_speed_map=phantom[\"sound_speed_map\"],\n",
    "    #     density_map=phantom[\"density_map\"],\n",
    "    #     grid_size_points=grid_size_points,\n",
    "    #     transducer=transducer,\n",
    "    #     not_transducer=not_transducer,        \n",
    "    # )\n",
    "    # # Process the scan lines using RF Signal Processing\n",
    "    # processed_central_scan_line = process_simulation_data(kgrid=kgrid,\n",
    "    #                         medium=medium,\n",
    "    #                         input_signal=input_signal,\n",
    "    #                         scan_lines=scan_lines,\n",
    "    #                         tone_burst_freq=tone_burst_freq,\n",
    "    #                         c0=c0,\n",
    "    #                         args=args)\n",
    "    # return processed_central_scan_line\n",
    "\n",
    "print(\"Hello World\")\n",
    "args = Params()  # loading the parameters\n",
    "run_simulation(args = args)"
   ]
  },
  {
   "cell_type": "code",
   "execution_count": 7,
   "metadata": {},
   "outputs": [],
   "source": []
  },
  {
   "cell_type": "code",
   "execution_count": null,
   "metadata": {},
   "outputs": [],
   "source": []
  },
  {
   "cell_type": "code",
   "execution_count": 8,
   "metadata": {},
   "outputs": [
    {
     "ename": "NameError",
     "evalue": "name 'a' is not defined",
     "output_type": "error",
     "traceback": [
      "\u001b[1;31m---------------------------------------------------------------------------\u001b[0m",
      "\u001b[1;31mNameError\u001b[0m                                 Traceback (most recent call last)",
      "Cell \u001b[1;32mIn[8], line 1\u001b[0m\n\u001b[1;32m----> 1\u001b[0m \u001b[43ma\u001b[49m\n",
      "\u001b[1;31mNameError\u001b[0m: name 'a' is not defined"
     ]
    }
   ],
   "source": [
    "a"
   ]
  }
 ],
 "metadata": {
  "kernelspec": {
   "display_name": "kwave",
   "language": "python",
   "name": "python3"
  },
  "language_info": {
   "codemirror_mode": {
    "name": "ipython",
    "version": 3
   },
   "file_extension": ".py",
   "mimetype": "text/x-python",
   "name": "python",
   "nbconvert_exporter": "python",
   "pygments_lexer": "ipython3",
   "version": "3.9.19"
  }
 },
 "nbformat": 4,
 "nbformat_minor": 2
}
